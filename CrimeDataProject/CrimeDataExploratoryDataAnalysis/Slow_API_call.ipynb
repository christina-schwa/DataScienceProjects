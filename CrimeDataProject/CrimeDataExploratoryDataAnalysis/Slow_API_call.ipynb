{
 "cells": [
  {
   "cell_type": "code",
   "execution_count": null,
   "metadata": {},
   "outputs": [],
   "source": [
    "import matplotlib.pyplot as plt\n",
    "import pandas as pd\n",
    "import numpy as np\n",
    "import requests\n",
    "import time\n",
    "from pprint import pprint\n",
    "\n",
    "# Import API key\n",
    "import api_keys\n",
    "\n",
    "# Get FBI API Key\n",
    "API_KEY = api_keys.fbi_api_key\n",
    "\n",
    "import itertools\n",
    "#base url\n",
    "base_url = \"https://api.usa.gov/crime/fbi/sapi/\"\n",
    "#Create a list of states in order to request data from each state\n",
    "stateAbbr = ['AL','AK','AZ','AR','CA','CO','CT','DE','FL','GA','HI','ID','IL','IN','IA','KS','KY','LA','ME','MD','MA','MI','MN','MS','MO','MT','NE','NV','NH','NJ','NM','NY','NC','ND','OH','OK','OR','PA','RI','SC','SD','TN','TX','UT','VT','VA','WA','WV','WI','WY']\n",
    "offense = [\"violent-crime\", \"property-crime\"]\n",
    "year = ['2010', \"2011\", \"2012\", \"2013\", \"2014\", \"2015\", \"2016\", \"2017\", \"2018\", '2019']\n",
    "\n",
    "#create an empty dataframe\n",
    "summarized_crime_type_data = pd.DataFrame(columns = [])\n",
    "\n",
    "#Create a for loop to request data for each state and for each variable for the offense that we would like to look at.\n",
    "for i,j,k in itertools.product(stateAbbr, offense, year):\n",
    "    desired_endpoint = \"api/summarized/state/\" + i + \"/\" + j + \"/\" + k + \"/\" + k\n",
    "    req = requests.get(base_url + desired_endpoint + \"?api_key=\" + API_KEY).json()\n",
    "    new = pd.DataFrame(req[\"results\"])\n",
    "    #Create new columns in the dataframe so that we know what data corresponds to each state and variable.\n",
    "    new[\"State\"] = i\n",
    "    new[\"Offense type\"] = j\n",
    "    new[\"Year\"] = k\n",
    "    #Append the data from each request to the dataframe\n",
    "    summarized_crime_type_data = summarized_crime_type_data.append(new)"
   ]
  },
  {
   "cell_type": "code",
   "execution_count": null,
   "metadata": {},
   "outputs": [],
   "source": []
  }
 ],
 "metadata": {
  "kernelspec": {
   "display_name": "Python 3",
   "language": "python",
   "name": "python3"
  },
  "language_info": {
   "codemirror_mode": {
    "name": "ipython",
    "version": 3
   },
   "file_extension": ".py",
   "mimetype": "text/x-python",
   "name": "python",
   "nbconvert_exporter": "python",
   "pygments_lexer": "ipython3",
   "version": "3.8.5"
  }
 },
 "nbformat": 4,
 "nbformat_minor": 4
}
